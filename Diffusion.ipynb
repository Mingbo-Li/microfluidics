{
 "cells": [
  {
   "cell_type": "markdown",
   "metadata": {},
   "source": [
    "$$\n",
    "\\newcommand{\\fudm}[2]{\\frac{\\mathrm{D} #1}{\\mathrm{D} #2}}\n",
    "\\newcommand{\\pad}[2]{\\frac{\\partial #1}{\\partial #2}}\n",
    "\\newcommand{\\ppad}[2]{\\frac{\\partial^2 #1}{\\partial #2^2}}\n",
    "\\newcommand{\\ppadd}[3]{\\frac{\\partial^2 #1}{\\partial #2 \\partial #3}}\n",
    "\\newcommand{\\nnabla}{\\nabla^2}\n",
    "\\newcommand{\\eps}{\\epsilon}\n",
    "\\newcommand{\\vdetail}[1]{\\vb{#1}=\\begin{pmatrix}#1_1\\\\#1_2\\\\#1_3\\end{pmatrix}}\n",
    "\\newcommand{\\vb}[1]{\\mathbf{#1}}\n",
    "\\newcommand{\\va}[1]{\\vec{#1}}\n",
    "\\newcommand{\\vc}[1]{\\begin{pmatrix}#1_1\\\\#1_2\\end{pmatrix}}\n",
    "\\newcommand{\\vd}[1]{\\begin{pmatrix}#1_1\\\\#1_2\\\\#1_3\\end{pmatrix}}\n",
    "\\newcommand{\\tb}[1]{\\underline{\\underline{\\mathbf{#1}}}}\n",
    "\\newcommand{\\fud}[2]{\\frac{\\mathrm{d} #1}{\\mathrm{d} #2}}\n",
    "\\newcommand{\\dd}{\\,\\mathrm{d}}\n",
    "$$"
   ]
  },
  {
   "cell_type": "markdown",
   "metadata": {},
   "source": [
    "# Diffusion\n",
    "\n",
    "The diffusion equation for a temporal and spatially varying concentration field, $c(\\vb{r},t)$ is \n",
    "\n",
    "$$\\pad{c}{t}=D\\,\\nabla^2 c\\tag{1}$$\n",
    "\n",
    "The unit of the diffusion constant $D$ is\n",
    "\n",
    "$$\\left[D\\right]=\\frac{\\mathrm{m}^2}{\\mathrm{s}}$$\n",
    "\n",
    "Let $L_0$ be a typical length scale of the problem, and $D$ the diffusion constant we obtain a relevant timescale $T_0$ from non-dimenisionalization of Eq.(1).\n",
    "\n",
    "$$L_0=\\sqrt{D\\,T_0}$$\n",
    "\n",
    "or for $T_0$ with a given lengthscale\n",
    "\n",
    "$$T_0=\\frac{{L_0}^2}{T_0}$$\n",
    "\n",
    "The diffusion constant of matter in water depends strongly on the size of the object. We give two examples, the diffusion constants of a small molecule such as oxygen and a moderately sized DNA molecule with 5000 base pairs.\n",
    "\n",
    "\\begin{eqnarray}\n",
    "D_{\\mathrm{O_2}}&=&2\\,10^{-9}\\,\\mathrm{m^2\\,s^{-1}}\\\\\n",
    "D_{\\mathrm{DNA}}&=&10^{-12}\\,\\mathrm{m^2\\,s^{-1}}\n",
    "\\end{eqnarray}\n",
    "\n",
    "Now consider a diffusional distance to cover of $L_0\\approx 100\\,\\mu$m, the time $T$ to cover this distance by diffusion is\n",
    "\n",
    "\\begin{eqnarray}\n",
    "T_{\\mathrm{O_2}}&\\approx&5\\,\\mathrm{s}\\\\\n",
    "T_{\\mathrm{DNA}}&\\approx&3\\,\\mathrm{h}\\quad .\n",
    "\\end{eqnarray}\n",
    "\n",
    "## Limited point-source diffusion\n",
    "\n",
    "Diffusion in 3 dimensions where at time $t=0$ all the concentration is at located at point $\\vb{r}=0$, i.e.\n",
    "\n",
    "$$c\\left(\\vb{r},t=0\\right)=N_0\\,\\delta(\\vb{r})\\quad .$$\n",
    "\n",
    "\n",
    "The time dependent concentration to this fundamental problem is\n",
    "\n",
    "$$c\\left(\\vb{r},t>0\\right)=\\frac{N_0}{\\left(4\\pi D\\,t\\right)^{3/2}}\\exp\\left(-\\frac{r^2}{4 D\\,t}\\right)$$\n",
    "\n",
    "\n",
    "\n",
    "\n",
    "<b>Proof</b>\n",
    "\n",
    "$$\\nabla^2 c = \\ppad{c}{r}+\\frac{2}{c}\\pad{c}{r}$$\n",
    "\n"
   ]
  },
  {
   "cell_type": "code",
   "execution_count": 31,
   "metadata": {
    "hide_input": false
   },
   "outputs": [
    {
     "data": {
      "application/vnd.jupyter.widget-view+json": {
       "model_id": "d2938ec286a246c58252913604af0c16",
       "version_major": 2,
       "version_minor": 0
      },
      "text/plain": [
       "aW50ZXJhY3RpdmUoY2hpbGRyZW49KEZsb2F0U2xpZGVyKHZhbHVlPTAuNSwgZGVzY3JpcHRpb249dSdUMCcsIG1heD0xLjAsIG1pbj0wLjA1LCBzdGVwPTAuMDUpLCBPdXRwdXQoKSksIF9kb23igKY=\n"
      ]
     },
     "metadata": {},
     "output_type": "display_data"
    }
   ],
   "source": [
    "%matplotlib inline\n",
    "from ipywidgets import *\n",
    "import numpy as np\n",
    "import matplotlib.pyplot as plt\n",
    "\n",
    "r = np.linspace(0, 5. ,500)\n",
    "N0=1.\n",
    "D=1.\n",
    "\n",
    "def update(T0=.5):\n",
    "\n",
    "    fig = plt.figure(figsize=(7,4))\n",
    "    plt.plot(r,N0*(4*np.pi*D*T0)**(-1.5)*np.exp(-(r**2)/(4*D*T0)),'-')\n",
    "    plt.xlabel(r'$r$',fontsize=15)\n",
    "    plt.ylabel('concentration $c$',fontsize=15)\n",
    "    plt.show()\n",
    "\n",
    "interact(update,T0=(0.05,1.,0.05));"
   ]
  },
  {
   "cell_type": "code",
   "execution_count": 16,
   "metadata": {
    "hide_input": true
   },
   "outputs": [
    {
     "data": {
      "application/vnd.jupyter.widget-view+json": {
       "model_id": "030ab2461e5e4c12ac1fd6854c6fdc5f",
       "version_major": 2,
       "version_minor": 0
      },
      "text/plain": [
       "aW50ZXJhY3RpdmUoY2hpbGRyZW49KEZsb2F0U2xpZGVyKHZhbHVlPTAuNSwgZGVzY3JpcHRpb249dSdyJywgbWF4PTUuMCwgbWluPTAuNSksIE91dHB1dCgpKSwgX2RvbV9jbGFzc2VzPSh1J3figKY=\n"
      ]
     },
     "metadata": {},
     "output_type": "display_data"
    }
   ],
   "source": [
    "%matplotlib inline\n",
    "from ipywidgets import *\n",
    "import numpy as np\n",
    "import matplotlib.pyplot as plt\n",
    "import warnings\n",
    "warnings.filterwarnings(\"ignore\")\n",
    "\n",
    "t = np.linspace(0, 5. ,500)\n",
    "N0=1.\n",
    "D=1.\n",
    "\n",
    "def update(r=.5):\n",
    "\n",
    "    fig = plt.figure(figsize=(7,4))\n",
    "    plt.plot(t,N0*(4*np.pi*D*t)**(-1.5)*np.exp(-(r**2)/(4*D*t)),'-')\n",
    "    plt.xlabel(r'$t$',fontsize=15)\n",
    "    plt.ylabel('concentration $c$',fontsize=15)\n",
    "    plt.show()\n",
    "\n",
    "interact(update,r=(0.5,5.,.1));"
   ]
  },
  {
   "cell_type": "markdown",
   "metadata": {},
   "source": [
    "## H-filter\n",
    "\n",
    "<img src=\"pics/h-filter.png\" width=750px>\n",
    "\n",
    "$$c(y,t)=\\frac{c_0}{2}\\left[ 1+ \\mathrm{erf} \\left(\\frac{y}{\\sqrt{4D t}}\\right) \\right]$$"
   ]
  },
  {
   "cell_type": "code",
   "execution_count": 30,
   "metadata": {},
   "outputs": [
    {
     "data": {
      "application/vnd.jupyter.widget-view+json": {
       "model_id": "52156da2c5094eb8af7c6b4163cb0d94",
       "version_major": 2,
       "version_minor": 0
      },
      "text/plain": [
       "aW50ZXJhY3RpdmUoY2hpbGRyZW49KEZsb2F0U2xpZGVyKHZhbHVlPTAuNSwgZGVzY3JpcHRpb249dSdUMCcsIG1heD0yLjAsIHN0ZXA9MC4wNSksIE91dHB1dCgpKSwgX2RvbV9jbGFzc2VzPSjigKY=\n"
      ]
     },
     "metadata": {},
     "output_type": "display_data"
    }
   ],
   "source": [
    "%matplotlib inline\n",
    "from scipy.special import erf \n",
    "\n",
    "y = np.linspace(-1., 1. ,500)\n",
    "c0=1.\n",
    "D=1.\n",
    "\n",
    "def update(T0=.5):\n",
    "\n",
    "    fig = plt.figure(figsize=(7,4))\n",
    "    plt.plot(y,c0/2.*(1+erf(y/np.sqrt(4*D*T0))),'-')\n",
    "    plt.xlabel(r'$y$',fontsize=15)\n",
    "    plt.ylabel('concentration $c$',fontsize=15)\n",
    "    plt.ylim(0,1.)\n",
    "    plt.show()\n",
    "\n",
    "interact(update,T0=(0.00,2.,0.05));"
   ]
  },
  {
   "cell_type": "code",
   "execution_count": null,
   "metadata": {},
   "outputs": [],
   "source": []
  }
 ],
 "metadata": {
  "kernelspec": {
   "display_name": "Python [default]",
   "language": "python",
   "name": "python2"
  },
  "language_info": {
   "codemirror_mode": {
    "name": "ipython",
    "version": 2
   },
   "file_extension": ".py",
   "mimetype": "text/x-python",
   "name": "python",
   "nbconvert_exporter": "python",
   "pygments_lexer": "ipython2",
   "version": "2.7.14"
  }
 },
 "nbformat": 4,
 "nbformat_minor": 2
}
