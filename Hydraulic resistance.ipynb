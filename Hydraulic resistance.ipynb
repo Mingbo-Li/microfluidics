{
 "cells": [
  {
   "cell_type": "markdown",
   "metadata": {},
   "source": [
    "# Hydraulic resistance\n",
    "\n",
    "The Hagen-Poiseuille law connecting the pressure difference $\\Delta p$ applied at the two ends of a flow line with the volumetric flux $Q$ has the general form of:\n",
    "$$\\Delta p = R_\\mathrm{hyd}\\,Q\\quad,$$\n",
    "where $R_\\mathrm{hyd}$ is the hydraulic resistance.\n",
    "\n",
    "The highter the resistance, the larger the pressure difference to obtain the same volumetric flux.\n",
    "\n",
    "This law has the same shape as Ohm's law for electrical resistance, $\\Delta V=R\\,I$.\n",
    "\n",
    "$$\\left[R_\\mathrm{hyd}\\right]=\\mathrm{Pa\\cdot s\\cdot m^{-3}}$$\n",
    "\n",
    "For a circular crossectional tube\n",
    "\n",
    "$$R_\\mathrm{hyd}=\\frac{8\\mu\\,L}{\\pi a^4}\\quad ,$$\n",
    "\n",
    "for a thin channel with $w\\gg h$\n",
    "\n",
    "$$R_\\mathrm{hyd}=\\frac{12\\mu\\,L}{h^3\\,w}\\left[1-0.630\\frac{h}{w}\\right]^{-1}\\quad ,$$\n",
    "\n",
    "and for parallel plates\n",
    "\n",
    "$$R_\\mathrm{hyd}=\\frac{12\\mu\\, L}{h^3\\,w}\\quad .$$\n",
    "\n",
    "\n",
    "## Networks \n",
    "\n",
    "The resistance of two channels connected in *series* with the hydraulic resistance of channel 1 and 2, $R_1$ and $R_2$, respectively, can be approximated with \n",
    "\n",
    "$$R_\\mathrm{tot}=R_1+R_2$$ \n",
    "\n",
    "if we ignore the losses at the connections.\n",
    "\n",
    "For channels in parallel the pressure difference across both channels is the same resulting to a total resistance of\n",
    "\n",
    "$$\\frac{1}{R_\\mathrm{tot}}=\\frac{1}{R_1}+\\frac{1}{R_2}$$\n"
   ]
  },
  {
   "cell_type": "code",
   "execution_count": null,
   "metadata": {},
   "outputs": [],
   "source": []
  }
 ],
 "metadata": {
  "kernelspec": {
   "display_name": "Python [default]",
   "language": "python",
   "name": "python2"
  },
  "language_info": {
   "codemirror_mode": {
    "name": "ipython",
    "version": 2
   },
   "file_extension": ".py",
   "mimetype": "text/x-python",
   "name": "python",
   "nbconvert_exporter": "python",
   "pygments_lexer": "ipython2",
   "version": "2.7.14"
  }
 },
 "nbformat": 4,
 "nbformat_minor": 2
}
